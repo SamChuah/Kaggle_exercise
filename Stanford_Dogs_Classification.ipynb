{
  "nbformat": 4,
  "nbformat_minor": 0,
  "metadata": {
    "colab": {
      "name": "Stanford Dogs Classification.ipynb",
      "provenance": [],
      "collapsed_sections": [],
      "mount_file_id": "1lrjObqOKckgo2n3XRg8wHsbpNi_YdjTK",
      "authorship_tag": "ABX9TyPVLSAtyTsPMtMfqHKle2Z+",
      "include_colab_link": true
    },
    "kernelspec": {
      "name": "python3",
      "display_name": "Python 3"
    },
    "accelerator": "GPU"
  },
  "cells": [
    {
      "cell_type": "markdown",
      "metadata": {
        "id": "view-in-github",
        "colab_type": "text"
      },
      "source": [
        "<a href=\"https://colab.research.google.com/github/SamChuah/Kaggle_exercise/blob/master/Stanford_Dogs_Classification.ipynb\" target=\"_parent\"><img src=\"https://colab.research.google.com/assets/colab-badge.svg\" alt=\"Open In Colab\"/></a>"
      ]
    },
    {
      "cell_type": "code",
      "metadata": {
        "id": "Gx4TbuEJmSVJ",
        "colab_type": "code",
        "colab": {}
      },
      "source": [
        "# Import all python scripts to local folder\n",
        "!cp drive/My\\ Drive/Steven/*.py ./"
      ],
      "execution_count": 1,
      "outputs": []
    },
    {
      "cell_type": "code",
      "metadata": {
        "id": "dNIYfl1YoMnO",
        "colab_type": "code",
        "colab": {}
      },
      "source": [
        "# Download dataset\n",
        "#!wget http://vision.stanford.edu/aditya86/ImageNetDogs/images.tar\n",
        "#!wget http://vision.stanford.edu/aditya86/ImageNetDogs/lists.tar"
      ],
      "execution_count": 2,
      "outputs": []
    },
    {
      "cell_type": "code",
      "metadata": {
        "id": "IgZ6C5ryohEx",
        "colab_type": "code",
        "colab": {}
      },
      "source": [
        "# Unzip downloaded files \n",
        "#!tar -xf images.tar\n",
        "#!tar -xf lists.tar\n",
        "#!rm *.tar"
      ],
      "execution_count": 3,
      "outputs": []
    },
    {
      "cell_type": "code",
      "metadata": {
        "id": "4axqLPVhpKMW",
        "colab_type": "code",
        "colab": {}
      },
      "source": [
        "# Import dependencies\n",
        "import time\n",
        "import torch\n",
        "import scipy.io\n",
        "import numpy as np\n",
        "from PIL import Image\n",
        "from torchvision import transforms\n",
        "from matplotlib import pyplot as plt\n",
        "import resnet_model as model\n",
        "import dataloader as DA\n",
        "import torch.optim as optim\n",
        "import torch.nn.functional as F\n",
        "import torch.nn as nn \n",
        "from sklearn import preprocessing\n",
        "from sklearn.model_selection import train_test_split"
      ],
      "execution_count": 4,
      "outputs": []
    },
    {
      "cell_type": "code",
      "metadata": {
        "id": "8LsIng4mpTvR",
        "colab_type": "code",
        "colab": {
          "base_uri": "https://localhost:8080/",
          "height": 34
        },
        "outputId": "77495af7-11fb-4db1-fb7e-09723b917d04"
      },
      "source": [
        "seed = 1\n",
        "np.random.seed(seed)\n",
        "torch.manual_seed(seed)"
      ],
      "execution_count": 5,
      "outputs": [
        {
          "output_type": "execute_result",
          "data": {
            "text/plain": [
              "<torch._C.Generator at 0x7f5dbefc4198>"
            ]
          },
          "metadata": {
            "tags": []
          },
          "execution_count": 5
        }
      ]
    },
    {
      "cell_type": "code",
      "metadata": {
        "id": "hPu3WrUTnKfD",
        "colab_type": "code",
        "colab": {}
      },
      "source": [
        "# Load train/test lists\n",
        "test_mat = scipy.io.loadmat('test_list.mat')\n",
        "train_mat = scipy.io.loadmat('train_list.mat')"
      ],
      "execution_count": 6,
      "outputs": []
    },
    {
      "cell_type": "code",
      "metadata": {
        "id": "mP7RCh_Sn4KF",
        "colab_type": "code",
        "colab": {}
      },
      "source": [
        "train_list = train_mat['file_list'] \n",
        "test_list = test_mat['file_list']"
      ],
      "execution_count": 7,
      "outputs": []
    },
    {
      "cell_type": "code",
      "metadata": {
        "id": "_IvhwiD20gJN",
        "colab_type": "code",
        "colab": {}
      },
      "source": [
        "train_classes = train_mat['labels']\n",
        "test_classes = test_mat['labels']\n",
        "train_classes -= 1\n",
        "test_classes -= 1"
      ],
      "execution_count": 8,
      "outputs": []
    },
    {
      "cell_type": "code",
      "metadata": {
        "id": "BgVixCRsoACc",
        "colab_type": "code",
        "colab": {}
      },
      "source": [
        "new_train_list = []\n",
        "new_test_list = [] \n",
        "for l in train_list:\n",
        "  new_train_list.append((l[0][0]))\n",
        "\n",
        "for l in test_list:\n",
        "  new_test_list.append(l[0][0])\n",
        "\n",
        "# Overwrite \n",
        "test_list = new_test_list\n",
        "train_list = new_train_list"
      ],
      "execution_count": 9,
      "outputs": []
    },
    {
      "cell_type": "code",
      "metadata": {
        "id": "TD5trHvn6zw7",
        "colab_type": "code",
        "colab": {
          "base_uri": "https://localhost:8080/",
          "height": 86
        },
        "outputId": "a9dabdd6-667a-41a2-b3e3-2924e6226e1b"
      },
      "source": [
        "'''\n",
        "# Convert ground truth labels from strings to ints\n",
        "# Training set\n",
        "train_breeds = []\n",
        "train_classes = []\n",
        "\n",
        "breed = -1\n",
        "\n",
        "for path in train_list:\n",
        "    train_breeds.append(path.split('/')[0].split('-')[1])\n",
        "\n",
        "    if breed != path.split('/')[0].split('-')[1]:\n",
        "      breed = path.split('/')[0].split('-')[1]\n",
        "\n",
        "# Testing set\n",
        "test_breeds = []\n",
        "test_classes = []\n",
        "\n",
        "breed = -1\n",
        "\n",
        "for path in train_list:\n",
        "    test_breeds.append(path.split('/')[0].split('-')[1])\n",
        "\n",
        "    if breed != path.split('/')[0].split('-')[1]:\n",
        "      breed = path.split('/')[0].split('-')[1]\n",
        "'''"
      ],
      "execution_count": 10,
      "outputs": [
        {
          "output_type": "execute_result",
          "data": {
            "application/vnd.google.colaboratory.intrinsic+json": {
              "type": "string"
            },
            "text/plain": [
              "\"\\n# Convert ground truth labels from strings to ints\\n# Training set\\ntrain_breeds = []\\ntrain_classes = []\\n\\nbreed = -1\\n\\nfor path in train_list:\\n    train_breeds.append(path.split('/')[0].split('-')[1])\\n\\n    if breed != path.split('/')[0].split('-')[1]:\\n      breed = path.split('/')[0].split('-')[1]\\n\\n# Testing set\\ntest_breeds = []\\ntest_classes = []\\n\\nbreed = -1\\n\\nfor path in train_list:\\n    test_breeds.append(path.split('/')[0].split('-')[1])\\n\\n    if breed != path.split('/')[0].split('-')[1]:\\n      breed = path.split('/')[0].split('-')[1]\\n\""
            ]
          },
          "metadata": {
            "tags": []
          },
          "execution_count": 10
        }
      ]
    },
    {
      "cell_type": "code",
      "metadata": {
        "id": "J5J9Qd77wxJc",
        "colab_type": "code",
        "colab": {
          "base_uri": "https://localhost:8080/",
          "height": 35
        },
        "outputId": "78e1cf1d-dd31-4b7c-c7b9-6ec414678074"
      },
      "source": [
        "'''le = preprocessing.LabelEncoder()\n",
        "\n",
        "le.fit(train_breeds)\n",
        "train_classes = le.transform(train_breeds)\n",
        "test_classes = le.transform(test_breeds)'''"
      ],
      "execution_count": 11,
      "outputs": [
        {
          "output_type": "execute_result",
          "data": {
            "application/vnd.google.colaboratory.intrinsic+json": {
              "type": "string"
            },
            "text/plain": [
              "'le = preprocessing.LabelEncoder()\\n\\nle.fit(train_breeds)\\ntrain_classes = le.transform(train_breeds)\\ntest_classes = le.transform(test_breeds)'"
            ]
          },
          "metadata": {
            "tags": []
          },
          "execution_count": 11
        }
      ]
    },
    {
      "cell_type": "code",
      "metadata": {
        "id": "ONUP8bgcvXhD",
        "colab_type": "code",
        "colab": {}
      },
      "source": [
        "# Split train into train/validation\n",
        "trainX, testX, trainY, testY = train_test_split(train_list, train_classes, test_size=0.2)\n"
      ],
      "execution_count": 12,
      "outputs": []
    },
    {
      "cell_type": "code",
      "metadata": {
        "id": "oOG3jYPvpHtI",
        "colab_type": "code",
        "colab": {
          "base_uri": "https://localhost:8080/",
          "height": 386
        },
        "outputId": "96e9d2d0-c568-466e-d14a-efa68c2a912b"
      },
      "source": [
        "# Visualize input image and the label\n",
        "idx = np.random.random_integers(0, 3000, 1)\n",
        "path = train_list[idx.item()]\n",
        "img = Image.open('Images/' + path)\n",
        "'''\n",
        "# img = transforms.CenterCrop(144)(img)\n",
        "augment = transforms.Compose([\n",
        "        transforms.RandomResizedCrop(size=315, scale=(0.95, 1.0)),\n",
        "        transforms.RandomRotation(degrees=15),\n",
        "        transforms.ColorJitter(),\n",
        "        transforms.RandomHorizontalFlip(),\n",
        "        transforms.CenterCrop(size=224)  # Image net standards\n",
        "        ])\n",
        "augment = transforms.Compose([\n",
        "        transforms.RandomRotation(degrees=45),\n",
        "        transforms.Resize(size=224),\n",
        "        transforms.CenterCrop(size=224)\n",
        "        ])\n",
        "img = augment(img)\n",
        "'''\n",
        "b = train_classes[idx.item()]\n",
        "img = np.array(img)\n",
        "plt.imshow(img)\n",
        "plt.title(b)\n",
        "print(img.shape)"
      ],
      "execution_count": 13,
      "outputs": [
        {
          "output_type": "stream",
          "text": [
            "(278, 300, 3)\n"
          ],
          "name": "stdout"
        },
        {
          "output_type": "stream",
          "text": [
            "/usr/local/lib/python3.6/dist-packages/ipykernel_launcher.py:2: DeprecationWarning: This function is deprecated. Please call randint(0, 3000 + 1) instead\n",
            "  \n",
            "/usr/local/lib/python3.6/dist-packages/matplotlib/text.py:1165: FutureWarning: elementwise comparison failed; returning scalar instead, but in the future will perform elementwise comparison\n",
            "  if s != self._text:\n"
          ],
          "name": "stderr"
        },
        {
          "output_type": "display_data",
          "data": {
            "image/png": "[encoded data removed]",
            "text/plain": [
              "<Figure size 432x288 with 1 Axes>"
            ]
          },
          "metadata": {
            "tags": [],
            "needs_background": "light"
          }
        }
      ]
    },
    {
      "cell_type": "code",
      "metadata": {
        "id": "0bfSKDMoz8gw",
        "colab_type": "code",
        "colab": {}
      },
      "source": [
        "# Define loss function. In this case, we will be using Cross-Entropy Loss\n",
        "\n",
        "def loss_fnc(pred, label):\n",
        "    pred_norm = F.softmax(pred, dim=1)  # B, C\n",
        "    loss = -torch.sum(label*torch.log(pred_norm), dim=1)\n",
        "\n",
        "    return torch.mean(loss)"
      ],
      "execution_count": 14,
      "outputs": []
    },
    {
      "cell_type": "code",
      "metadata": {
        "id": "qzWUn_LCzBWh",
        "colab_type": "code",
        "colab": {}
      },
      "source": [
        "# Training hyper-parameters:\n",
        "batchsize = 128\n",
        "learning_rate = 0.0005\n",
        "epochs = 200"
      ],
      "execution_count": 15,
      "outputs": []
    },
    {
      "cell_type": "code",
      "metadata": {
        "id": "DK0ImA5wBpIZ",
        "colab_type": "code",
        "colab": {}
      },
      "source": [
        "TrainImgLoader = torch.utils.data.DataLoader(DA.myImageFloder(trainX, trainY, True),\n",
        "                                             batch_size=batchsize, shuffle=True, num_workers=8, \n",
        "                                             drop_last=False)\n",
        "TestImgLoader = torch.utils.data.DataLoader(DA.myImageFloder(testX, testY, False), \n",
        "                                            batch_size=64, shuffle=False, num_workers=8, \n",
        "                                            drop_last=False)"
      ],
      "execution_count": 16,
      "outputs": []
    },
    {
      "cell_type": "code",
      "metadata": {
        "id": "1t2n-WyhqoR5",
        "colab_type": "code",
        "colab": {
          "base_uri": "https://localhost:8080/",
          "height": 34
        },
        "outputId": "5348fbd8-b0bd-4a87-923b-496b15294f45"
      },
      "source": [
        "resnet = model.resnet18(pretrained=False)\n",
        "\n",
        "if torch.cuda.is_available():\n",
        "   resnet = resnet.cuda()\n",
        "print('Number of model parameters: {}'.format(sum([p.data.nelement() for p in resnet.parameters()])))"
      ],
      "execution_count": 17,
      "outputs": [
        {
          "output_type": "stream",
          "text": [
            "Number of model parameters: 14192056\n"
          ],
          "name": "stdout"
        }
      ]
    },
    {
      "cell_type": "code",
      "metadata": {
        "id": "IMfOC3VSvJ0r",
        "colab_type": "code",
        "colab": {}
      },
      "source": [
        "optimizer = optim.Adam(resnet.parameters(), lr=learning_rate, betas=(0.9, 0.999), weight_decay=0.005)\n",
        "loss_fnc = nn.CrossEntropyLoss()"
      ],
      "execution_count": 18,
      "outputs": []
    },
    {
      "cell_type": "code",
      "metadata": {
        "id": "0oLt81RuG5uW",
        "colab_type": "code",
        "colab": {}
      },
      "source": [
        "def adjust_learning_rate(optimizer, epoch):\n",
        "    epoch += 1\n",
        "    base_lr = 0.001\n",
        "\n",
        "    if epoch <= 20:\n",
        "        lr = base_lr\n",
        "    elif epoch>20 and epoch<=40:\n",
        "        lr = base_lr/2\n",
        "    elif epoch>40 and epoch<=60:\n",
        "        lr = base_lr/4\n",
        "    else:\n",
        "        lr = base_lr/8\n",
        "\n",
        "    print(lr)\n",
        "    for param_group in optimizer.param_groups:\n",
        "        param_group['lr'] = lr"
      ],
      "execution_count": 19,
      "outputs": []
    },
    {
      "cell_type": "code",
      "metadata": {
        "id": "0Z0iSHpcw2HV",
        "colab_type": "code",
        "colab": {}
      },
      "source": [
        "# Calculate accuracy by finding max log probability\n",
        "\n",
        "def calc_acc(pred, label):\n",
        "    pred = F.softmax(pred, dim=1)\n",
        "    _, pred = torch.max(pred, dim=1) # first output gives the max value in the row(not what we want), second output gives index of the highest val\n",
        "\n",
        "    correct_labels = [p == l for p, l in zip(pred, label)]\n",
        "    accuracy = torch.mean(torch.tensor(correct_labels, dtype=torch.float32)) #tensor must be float to calc average\n",
        "\n",
        "    return accuracy*100"
      ],
      "execution_count": 20,
      "outputs": []
    },
    {
      "cell_type": "code",
      "metadata": {
        "id": "Pyf3JPZB07Do",
        "colab_type": "code",
        "colab": {}
      },
      "source": [
        "# Train\n",
        "def train(img, label):\n",
        "    resnet.train()\n",
        "    if torch.cuda.is_available():\n",
        "       img, label = img.cuda(), label.squeeze(1).cuda()\n",
        "    \n",
        "    #label = label.detach()\n",
        "    optimizer.zero_grad()\n",
        "\n",
        "    #for param in resnet.parameters():\n",
        "    #    param.requires_grad = False\n",
        "\n",
        "    #resnet.fc1.weight.requires_grad = True\n",
        "    #resnet.fc1.bias.requires_grad = True\n",
        "\n",
        "    pred = resnet(img)\n",
        "    loss = loss_fnc(pred, label)\n",
        "\n",
        "    loss.backward()\n",
        "    optimizer.step()\n",
        "\n",
        "    with torch.no_grad():\n",
        "      acc = calc_acc(pred, label)\n",
        "\n",
        "    return loss.data, acc.data"
      ],
      "execution_count": 21,
      "outputs": []
    },
    {
      "cell_type": "code",
      "metadata": {
        "id": "z8wjCbnI1Yk6",
        "colab_type": "code",
        "colab": {}
      },
      "source": [
        "# Test \n",
        "def test(img, label):\n",
        "    \n",
        "    if torch.cuda.is_available():\n",
        "       img, label = img.cuda(), label.squeeze(1).cuda()\n",
        "\n",
        "    resnet.eval()\n",
        "    with torch.no_grad():\n",
        "        pred = resnet(img)\n",
        "    \n",
        "    loss = loss_fnc(pred, label)\n",
        "    acc = calc_acc(pred, label)\n",
        "\n",
        "    return loss.data, acc.data"
      ],
      "execution_count": 22,
      "outputs": []
    },
    {
      "cell_type": "code",
      "metadata": {
        "id": "QNJyzZ9AW0jg",
        "colab_type": "code",
        "colab": {
          "base_uri": "https://localhost:8080/",
          "height": 34
        },
        "outputId": "6fcdce66-5297-41aa-9636-079f236f3107"
      },
      "source": [
        "len(TrainImgLoader)*batchsize\n",
        "len(TestImgLoader)*batchsize"
      ],
      "execution_count": 23,
      "outputs": [
        {
          "output_type": "execute_result",
          "data": {
            "text/plain": [
              "4864"
            ]
          },
          "metadata": {
            "tags": []
          },
          "execution_count": 23
        }
      ]
    },
    {
      "cell_type": "code",
      "metadata": {
        "id": "-Tsy0RBVy4Dq",
        "colab_type": "code",
        "colab": {
          "base_uri": "https://localhost:8080/",
          "height": 1000
        },
        "outputId": "c51749a2-f905-4999-dfab-1b338cbfb1c2"
      },
      "source": [
        "# Loop\n",
        "\n",
        "train_losses = []\n",
        "test_losses = []\n",
        "train_accs = []\n",
        "test_accs = []\n",
        "\n",
        "for e in range(epochs):\n",
        "    total_train_loss = 0\n",
        "    total_test_loss = 0\n",
        "    total_train_acc = 0\n",
        "    total_test_acc = 0\n",
        "    #adjust_learning_rate(optimizer, e)\n",
        "\n",
        "    # Training\n",
        "    start_time = time.time()\n",
        "\n",
        "    for batch_idx, (img, label) in enumerate(TrainImgLoader):\n",
        "        loss, acc = train(img, label)\n",
        "        #print('[INFO] Iter: %d/%d  Loss: %.4f'%(batch_idx+1, len(TrainImgLoader), loss.item()))\n",
        "        total_train_loss += loss\n",
        "        total_train_acc += acc\n",
        "    \n",
        "    train_losses.append(total_train_loss/len(TrainImgLoader))\n",
        "    train_accs.append(total_train_acc/len(TrainImgLoader))\n",
        "    total_train_time = (time.time() - start_time)\n",
        "    print('[INFO] Epochs: %d/%d  Train Loss: %.4f. Train Acc: %.3f  Time: %.3f'%(e+1, epochs, train_losses[e], train_accs[e], total_train_time))\n",
        "    \n",
        "    # Testing \n",
        "    start_time = time.time()\n",
        "\n",
        "    for batch_idx, (img, label) in enumerate(TestImgLoader):\n",
        "        loss, acc = test(img, label)\n",
        "        #print('[INFO] Iter: %d/%d  Loss: %.4f'%(batch_idx+1, len(TestImgLoader), loss.item()))\n",
        "        total_test_loss += loss\n",
        "        total_test_acc += acc\n",
        "    \n",
        "    test_losses.append(total_test_loss/len(TestImgLoader))\n",
        "    test_accs.append(total_test_acc/len(TestImgLoader))\n",
        "    total_test_time = (time.time() - start_time)\n",
        "    print('[INFO] Epochs: %d/%d  Test Loss: %.4f  Test Acc: %.3f Time: %.3f'%(e+1, epochs, test_losses[e], test_accs[e], total_test_time))\n",
        "\n",
        "    torch.save({'state_dict':resnet.state_dict(), 'epoch': e+1}, 'checkpoint'+str(e+1)+'.pth')\n"
      ],
      "execution_count": null,
      "outputs": [
        {
          "output_type": "stream",
          "text": [
            "[INFO] Epochs: 1/200  Train Loss: 4.8606. Train Acc: 1.760  Time: 76.463\n",
            "[INFO] Epochs: 1/200  Test Loss: 4.6495  Test Acc: 1.727 Time: 12.904\n",
            "[INFO] Epochs: 2/200  Train Loss: 4.6248. Train Acc: 2.698  Time: 78.152\n",
            "[INFO] Epochs: 2/200  Test Loss: 4.5934  Test Acc: 2.303 Time: 12.919\n",
            "[INFO] Epochs: 3/200  Train Loss: 4.5117. Train Acc: 3.781  Time: 77.715\n",
            "[INFO] Epochs: 3/200  Test Loss: 4.7559  Test Acc: 2.097 Time: 12.911\n",
            "[INFO] Epochs: 4/200  Train Loss: 4.4045. Train Acc: 4.917  Time: 78.113\n",
            "[INFO] Epochs: 4/200  Test Loss: 4.2739  Test Acc: 4.770 Time: 13.158\n",
            "[INFO] Epochs: 5/200  Train Loss: 4.3439. Train Acc: 4.927  Time: 77.976\n",
            "[INFO] Epochs: 5/200  Test Loss: 4.5627  Test Acc: 2.467 Time: 12.955\n",
            "[INFO] Epochs: 6/200  Train Loss: 4.2825. Train Acc: 5.260  Time: 78.050\n",
            "[INFO] Epochs: 6/200  Test Loss: 4.2649  Test Acc: 4.729 Time: 12.875\n",
            "[INFO] Epochs: 7/200  Train Loss: 4.2530. Train Acc: 5.729  Time: 78.045\n",
            "[INFO] Epochs: 7/200  Test Loss: 4.2493  Test Acc: 5.551 Time: 12.900\n",
            "[INFO] Epochs: 8/200  Train Loss: 4.1956. Train Acc: 6.688  Time: 78.453\n",
            "[INFO] Epochs: 8/200  Test Loss: 4.2489  Test Acc: 5.222 Time: 12.881\n",
            "[INFO] Epochs: 9/200  Train Loss: 4.1462. Train Acc: 7.375  Time: 78.441\n",
            "[INFO] Epochs: 9/200  Test Loss: 4.1154  Test Acc: 6.949 Time: 12.808\n",
            "[INFO] Epochs: 10/200  Train Loss: 4.0932. Train Acc: 7.562  Time: 78.099\n",
            "[INFO] Epochs: 10/200  Test Loss: 4.0992  Test Acc: 6.949 Time: 12.779\n",
            "[INFO] Epochs: 11/200  Train Loss: 4.0599. Train Acc: 8.125  Time: 78.230\n",
            "[INFO] Epochs: 11/200  Test Loss: 4.2421  Test Acc: 5.016 Time: 12.877\n",
            "[INFO] Epochs: 12/200  Train Loss: 4.0279. Train Acc: 8.615  Time: 78.086\n",
            "[INFO] Epochs: 12/200  Test Loss: 3.9674  Test Acc: 8.512 Time: 12.813\n",
            "[INFO] Epochs: 13/200  Train Loss: 3.9958. Train Acc: 9.302  Time: 77.765\n",
            "[INFO] Epochs: 13/200  Test Loss: 4.2201  Test Acc: 6.497 Time: 12.949\n",
            "[INFO] Epochs: 14/200  Train Loss: 3.9732. Train Acc: 9.615  Time: 77.924\n",
            "[INFO] Epochs: 14/200  Test Loss: 4.4120  Test Acc: 4.975 Time: 12.767\n",
            "[INFO] Epochs: 15/200  Train Loss: 3.9284. Train Acc: 10.177  Time: 77.693\n",
            "[INFO] Epochs: 15/200  Test Loss: 4.0692  Test Acc: 6.661 Time: 12.779\n",
            "[INFO] Epochs: 16/200  Train Loss: 3.9302. Train Acc: 10.677  Time: 77.856\n",
            "[INFO] Epochs: 16/200  Test Loss: 3.9980  Test Acc: 6.579 Time: 12.793\n",
            "[INFO] Epochs: 17/200  Train Loss: 3.8614. Train Acc: 12.021  Time: 77.919\n",
            "[INFO] Epochs: 17/200  Test Loss: 3.8913  Test Acc: 9.581 Time: 12.892\n",
            "[INFO] Epochs: 18/200  Train Loss: 3.8565. Train Acc: 12.260  Time: 77.780\n",
            "[INFO] Epochs: 18/200  Test Loss: 3.8343  Test Acc: 10.115 Time: 12.733\n",
            "[INFO] Epochs: 19/200  Train Loss: 3.8212. Train Acc: 12.625  Time: 78.096\n",
            "[INFO] Epochs: 19/200  Test Loss: 3.9442  Test Acc: 7.401 Time: 12.817\n",
            "[INFO] Epochs: 20/200  Train Loss: 3.7860. Train Acc: 13.448  Time: 77.905\n",
            "[INFO] Epochs: 20/200  Test Loss: 3.7640  Test Acc: 10.403 Time: 12.916\n",
            "[INFO] Epochs: 21/200  Train Loss: 3.7784. Train Acc: 13.198  Time: 78.334\n",
            "[INFO] Epochs: 21/200  Test Loss: 3.8294  Test Acc: 9.046 Time: 12.994\n",
            "[INFO] Epochs: 22/200  Train Loss: 3.7407. Train Acc: 14.062  Time: 77.987\n",
            "[INFO] Epochs: 22/200  Test Loss: 3.7488  Test Acc: 12.459 Time: 12.768\n",
            "[INFO] Epochs: 23/200  Train Loss: 3.7356. Train Acc: 13.885  Time: 77.615\n",
            "[INFO] Epochs: 23/200  Test Loss: 3.8742  Test Acc: 9.128 Time: 13.177\n",
            "[INFO] Epochs: 24/200  Train Loss: 3.7254. Train Acc: 14.594  Time: 77.957\n",
            "[INFO] Epochs: 24/200  Test Loss: 4.0133  Test Acc: 7.278 Time: 12.796\n",
            "[INFO] Epochs: 25/200  Train Loss: 3.6995. Train Acc: 14.594  Time: 77.882\n",
            "[INFO] Epochs: 25/200  Test Loss: 4.1956  Test Acc: 7.031 Time: 12.797\n",
            "[INFO] Epochs: 26/200  Train Loss: 3.6698. Train Acc: 15.177  Time: 77.495\n",
            "[INFO] Epochs: 26/200  Test Loss: 3.7533  Test Acc: 12.993 Time: 12.847\n",
            "[INFO] Epochs: 27/200  Train Loss: 3.6677. Train Acc: 15.667  Time: 77.895\n",
            "[INFO] Epochs: 27/200  Test Loss: 3.9012  Test Acc: 9.128 Time: 12.714\n",
            "[INFO] Epochs: 28/200  Train Loss: 3.6495. Train Acc: 16.010  Time: 77.684\n",
            "[INFO] Epochs: 28/200  Test Loss: 3.8474  Test Acc: 9.539 Time: 12.893\n",
            "[INFO] Epochs: 29/200  Train Loss: 3.6251. Train Acc: 16.594  Time: 78.084\n",
            "[INFO] Epochs: 29/200  Test Loss: 3.7165  Test Acc: 11.965 Time: 12.759\n",
            "[INFO] Epochs: 30/200  Train Loss: 3.6133. Train Acc: 16.688  Time: 77.703\n",
            "[INFO] Epochs: 30/200  Test Loss: 3.8767  Test Acc: 10.033 Time: 12.751\n",
            "[INFO] Epochs: 31/200  Train Loss: 3.6112. Train Acc: 16.865  Time: 77.766\n",
            "[INFO] Epochs: 31/200  Test Loss: 3.7822  Test Acc: 10.238 Time: 12.731\n",
            "[INFO] Epochs: 32/200  Train Loss: 3.6071. Train Acc: 17.260  Time: 77.637\n",
            "[INFO] Epochs: 32/200  Test Loss: 3.7313  Test Acc: 11.431 Time: 12.682\n",
            "[INFO] Epochs: 33/200  Train Loss: 3.5882. Train Acc: 17.562  Time: 77.938\n",
            "[INFO] Epochs: 33/200  Test Loss: 3.6207  Test Acc: 13.322 Time: 12.735\n",
            "[INFO] Epochs: 34/200  Train Loss: 3.5856. Train Acc: 16.958  Time: 77.878\n",
            "[INFO] Epochs: 34/200  Test Loss: 3.7322  Test Acc: 12.007 Time: 12.802\n",
            "[INFO] Epochs: 35/200  Train Loss: 3.5498. Train Acc: 18.115  Time: 77.974\n",
            "[INFO] Epochs: 35/200  Test Loss: 3.6493  Test Acc: 12.664 Time: 12.824\n",
            "[INFO] Epochs: 36/200  Train Loss: 3.5425. Train Acc: 18.854  Time: 78.132\n",
            "[INFO] Epochs: 36/200  Test Loss: 3.5796  Test Acc: 14.515 Time: 12.882\n",
            "[INFO] Epochs: 37/200  Train Loss: 3.5439. Train Acc: 18.823  Time: 77.957\n",
            "[INFO] Epochs: 37/200  Test Loss: 3.6197  Test Acc: 14.021 Time: 12.627\n",
            "[INFO] Epochs: 38/200  Train Loss: 3.5290. Train Acc: 18.802  Time: 77.556\n",
            "[INFO] Epochs: 38/200  Test Loss: 3.7244  Test Acc: 11.390 Time: 12.692\n",
            "[INFO] Epochs: 39/200  Train Loss: 3.5274. Train Acc: 19.198  Time: 77.519\n",
            "[INFO] Epochs: 39/200  Test Loss: 3.5811  Test Acc: 15.461 Time: 12.804\n",
            "[INFO] Epochs: 40/200  Train Loss: 3.5406. Train Acc: 19.115  Time: 78.101\n",
            "[INFO] Epochs: 40/200  Test Loss: 3.6656  Test Acc: 13.076 Time: 12.834\n",
            "[INFO] Epochs: 41/200  Train Loss: 3.5491. Train Acc: 18.698  Time: 77.433\n",
            "[INFO] Epochs: 41/200  Test Loss: 3.6042  Test Acc: 13.281 Time: 12.835\n",
            "[INFO] Epochs: 42/200  Train Loss: 3.5054. Train Acc: 19.844  Time: 77.793\n",
            "[INFO] Epochs: 42/200  Test Loss: 3.7584  Test Acc: 10.938 Time: 12.829\n",
            "[INFO] Epochs: 43/200  Train Loss: 3.4877. Train Acc: 20.104  Time: 77.458\n",
            "[INFO] Epochs: 43/200  Test Loss: 3.6541  Test Acc: 13.405 Time: 12.833\n",
            "[INFO] Epochs: 44/200  Train Loss: 3.5063. Train Acc: 19.635  Time: 77.877\n",
            "[INFO] Epochs: 44/200  Test Loss: 3.5788  Test Acc: 14.433 Time: 13.071\n",
            "[INFO] Epochs: 45/200  Train Loss: 3.4924. Train Acc: 19.635  Time: 79.774\n",
            "[INFO] Epochs: 45/200  Test Loss: 3.6402  Test Acc: 14.186 Time: 13.206\n",
            "[INFO] Epochs: 46/200  Train Loss: 3.4617. Train Acc: 20.323  Time: 77.557\n",
            "[INFO] Epochs: 46/200  Test Loss: 3.6207  Test Acc: 13.035 Time: 12.806\n",
            "[INFO] Epochs: 47/200  Train Loss: 3.4360. Train Acc: 20.885  Time: 77.446\n",
            "[INFO] Epochs: 47/200  Test Loss: 3.3931  Test Acc: 17.516 Time: 12.792\n",
            "[INFO] Epochs: 48/200  Train Loss: 3.4619. Train Acc: 20.406  Time: 77.654\n",
            "[INFO] Epochs: 48/200  Test Loss: 3.7089  Test Acc: 11.349 Time: 12.766\n",
            "[INFO] Epochs: 49/200  Train Loss: 3.4554. Train Acc: 20.406  Time: 77.482\n",
            "[INFO] Epochs: 49/200  Test Loss: 3.7192  Test Acc: 11.513 Time: 12.781\n",
            "[INFO] Epochs: 50/200  Train Loss: 3.4551. Train Acc: 20.760  Time: 77.135\n",
            "[INFO] Epochs: 50/200  Test Loss: 3.5320  Test Acc: 16.530 Time: 13.006\n",
            "[INFO] Epochs: 51/200  Train Loss: 3.4189. Train Acc: 21.031  Time: 78.120\n",
            "[INFO] Epochs: 51/200  Test Loss: 3.5249  Test Acc: 15.748 Time: 12.913\n",
            "[INFO] Epochs: 52/200  Train Loss: 3.4282. Train Acc: 21.385  Time: 76.565\n",
            "[INFO] Epochs: 52/200  Test Loss: 3.6189  Test Acc: 13.528 Time: 12.942\n",
            "[INFO] Epochs: 53/200  Train Loss: 3.3998. Train Acc: 22.302  Time: 77.726\n",
            "[INFO] Epochs: 53/200  Test Loss: 3.7733  Test Acc: 9.786 Time: 12.886\n",
            "[INFO] Epochs: 54/200  Train Loss: 3.3893. Train Acc: 22.812  Time: 76.975\n",
            "[INFO] Epochs: 54/200  Test Loss: 3.7078  Test Acc: 13.487 Time: 12.863\n",
            "[INFO] Epochs: 55/200  Train Loss: 3.4029. Train Acc: 21.979  Time: 76.868\n",
            "[INFO] Epochs: 55/200  Test Loss: 3.3511  Test Acc: 18.257 Time: 12.975\n",
            "[INFO] Epochs: 56/200  Train Loss: 3.3700. Train Acc: 22.521  Time: 77.209\n",
            "[INFO] Epochs: 56/200  Test Loss: 3.7242  Test Acc: 13.281 Time: 12.880\n",
            "[INFO] Epochs: 57/200  Train Loss: 3.3683. Train Acc: 22.260  Time: 76.356\n",
            "[INFO] Epochs: 57/200  Test Loss: 3.5012  Test Acc: 15.707 Time: 12.973\n",
            "[INFO] Epochs: 58/200  Train Loss: 3.3471. Train Acc: 23.188  Time: 78.242\n",
            "[INFO] Epochs: 58/200  Test Loss: 3.4644  Test Acc: 14.556 Time: 13.053\n",
            "[INFO] Epochs: 59/200  Train Loss: 3.3269. Train Acc: 23.729  Time: 77.512\n",
            "[INFO] Epochs: 59/200  Test Loss: 3.4169  Test Acc: 16.488 Time: 13.257\n",
            "[INFO] Epochs: 60/200  Train Loss: 3.3159. Train Acc: 23.042  Time: 77.165\n",
            "[INFO] Epochs: 60/200  Test Loss: 3.4733  Test Acc: 15.008 Time: 13.091\n",
            "[INFO] Epochs: 61/200  Train Loss: 3.3177. Train Acc: 23.333  Time: 78.004\n",
            "[INFO] Epochs: 61/200  Test Loss: 3.3573  Test Acc: 18.586 Time: 12.931\n",
            "[INFO] Epochs: 62/200  Train Loss: 3.3045. Train Acc: 24.062  Time: 77.256\n",
            "[INFO] Epochs: 62/200  Test Loss: 3.4893  Test Acc: 14.350 Time: 13.075\n",
            "[INFO] Epochs: 63/200  Train Loss: 3.2620. Train Acc: 23.792  Time: 78.006\n",
            "[INFO] Epochs: 63/200  Test Loss: 3.5984  Test Acc: 12.829 Time: 12.991\n",
            "[INFO] Epochs: 64/200  Train Loss: 3.2694. Train Acc: 24.396  Time: 76.843\n",
            "[INFO] Epochs: 64/200  Test Loss: 3.4537  Test Acc: 16.077 Time: 12.951\n",
            "[INFO] Epochs: 65/200  Train Loss: 3.2672. Train Acc: 23.865  Time: 77.946\n",
            "[INFO] Epochs: 65/200  Test Loss: 3.4147  Test Acc: 17.434 Time: 13.042\n",
            "[INFO] Epochs: 66/200  Train Loss: 3.2528. Train Acc: 24.885  Time: 78.622\n",
            "[INFO] Epochs: 66/200  Test Loss: 3.4293  Test Acc: 16.324 Time: 13.038\n",
            "[INFO] Epochs: 67/200  Train Loss: 3.2211. Train Acc: 25.365  Time: 78.013\n",
            "[INFO] Epochs: 67/200  Test Loss: 3.4197  Test Acc: 18.174 Time: 13.165\n",
            "[INFO] Epochs: 68/200  Train Loss: 3.2229. Train Acc: 25.062  Time: 76.949\n",
            "[INFO] Epochs: 68/200  Test Loss: 3.2779  Test Acc: 19.243 Time: 12.882\n",
            "[INFO] Epochs: 69/200  Train Loss: 3.2345. Train Acc: 24.354  Time: 77.475\n",
            "[INFO] Epochs: 69/200  Test Loss: 3.2913  Test Acc: 19.572 Time: 13.073\n",
            "[INFO] Epochs: 70/200  Train Loss: 3.2013. Train Acc: 25.865  Time: 77.424\n",
            "[INFO] Epochs: 70/200  Test Loss: 3.4131  Test Acc: 16.900 Time: 13.082\n",
            "[INFO] Epochs: 71/200  Train Loss: 3.2253. Train Acc: 25.250  Time: 78.252\n",
            "[INFO] Epochs: 71/200  Test Loss: 3.3310  Test Acc: 17.146 Time: 13.094\n",
            "[INFO] Epochs: 72/200  Train Loss: 3.2091. Train Acc: 26.240  Time: 77.292\n",
            "[INFO] Epochs: 72/200  Test Loss: 3.4169  Test Acc: 15.543 Time: 13.082\n",
            "[INFO] Epochs: 73/200  Train Loss: 3.2026. Train Acc: 26.198  Time: 78.815\n",
            "[INFO] Epochs: 73/200  Test Loss: 3.2787  Test Acc: 19.655 Time: 13.104\n",
            "[INFO] Epochs: 74/200  Train Loss: 3.1470. Train Acc: 26.719  Time: 77.980\n",
            "[INFO] Epochs: 74/200  Test Loss: 3.3119  Test Acc: 18.668 Time: 13.032\n",
            "[INFO] Epochs: 75/200  Train Loss: 3.1696. Train Acc: 26.500  Time: 77.418\n",
            "[INFO] Epochs: 75/200  Test Loss: 3.3994  Test Acc: 17.887 Time: 13.341\n",
            "[INFO] Epochs: 76/200  Train Loss: 3.1803. Train Acc: 26.688  Time: 78.654\n",
            "[INFO] Epochs: 76/200  Test Loss: 3.1384  Test Acc: 22.368 Time: 13.117\n",
            "[INFO] Epochs: 77/200  Train Loss: 3.1518. Train Acc: 27.104  Time: 77.572\n",
            "[INFO] Epochs: 77/200  Test Loss: 3.2457  Test Acc: 19.860 Time: 13.110\n",
            "[INFO] Epochs: 78/200  Train Loss: 3.1415. Train Acc: 26.677  Time: 77.872\n",
            "[INFO] Epochs: 78/200  Test Loss: 3.3394  Test Acc: 18.174 Time: 12.999\n",
            "[INFO] Epochs: 79/200  Train Loss: 3.1200. Train Acc: 27.531  Time: 78.336\n",
            "[INFO] Epochs: 79/200  Test Loss: 3.4655  Test Acc: 16.406 Time: 13.111\n",
            "[INFO] Epochs: 80/200  Train Loss: 3.1029. Train Acc: 28.135  Time: 79.136\n",
            "[INFO] Epochs: 80/200  Test Loss: 3.1217  Test Acc: 21.669 Time: 13.071\n",
            "[INFO] Epochs: 81/200  Train Loss: 3.0871. Train Acc: 28.375  Time: 77.986\n",
            "[INFO] Epochs: 81/200  Test Loss: 3.3533  Test Acc: 17.516 Time: 13.259\n",
            "[INFO] Epochs: 82/200  Train Loss: 3.0741. Train Acc: 29.490  Time: 78.624\n",
            "[INFO] Epochs: 82/200  Test Loss: 3.1801  Test Acc: 21.546 Time: 13.243\n",
            "[INFO] Epochs: 83/200  Train Loss: 3.0718. Train Acc: 29.083  Time: 77.009\n",
            "[INFO] Epochs: 83/200  Test Loss: 3.1459  Test Acc: 22.327 Time: 12.937\n",
            "[INFO] Epochs: 84/200  Train Loss: 3.0487. Train Acc: 29.042  Time: 77.395\n",
            "[INFO] Epochs: 84/200  Test Loss: 3.2159  Test Acc: 20.518 Time: 13.068\n",
            "[INFO] Epochs: 85/200  Train Loss: 3.0543. Train Acc: 29.229  Time: 79.592\n",
            "[INFO] Epochs: 85/200  Test Loss: 3.1321  Test Acc: 22.451 Time: 13.988\n",
            "[INFO] Epochs: 86/200  Train Loss: 3.0636. Train Acc: 29.052  Time: 79.361\n",
            "[INFO] Epochs: 86/200  Test Loss: 3.1757  Test Acc: 21.669 Time: 14.147\n",
            "[INFO] Epochs: 87/200  Train Loss: 3.0194. Train Acc: 29.646  Time: 79.563\n",
            "[INFO] Epochs: 87/200  Test Loss: 3.1663  Test Acc: 21.957 Time: 13.127\n",
            "[INFO] Epochs: 88/200  Train Loss: 3.0267. Train Acc: 30.583  Time: 78.068\n",
            "[INFO] Epochs: 88/200  Test Loss: 2.9732  Test Acc: 26.151 Time: 13.087\n",
            "[INFO] Epochs: 89/200  Train Loss: 3.0447. Train Acc: 29.979  Time: 78.047\n",
            "[INFO] Epochs: 89/200  Test Loss: 3.1179  Test Acc: 20.518 Time: 13.272\n",
            "[INFO] Epochs: 90/200  Train Loss: 2.9825. Train Acc: 31.021  Time: 78.584\n",
            "[INFO] Epochs: 90/200  Test Loss: 3.0406  Test Acc: 25.288 Time: 13.365\n",
            "[INFO] Epochs: 91/200  Train Loss: 3.0071. Train Acc: 30.188  Time: 79.235\n",
            "[INFO] Epochs: 91/200  Test Loss: 3.2823  Test Acc: 19.531 Time: 13.332\n",
            "[INFO] Epochs: 92/200  Train Loss: 3.0041. Train Acc: 30.917  Time: 79.475\n",
            "[INFO] Epochs: 92/200  Test Loss: 3.1542  Test Acc: 22.944 Time: 13.434\n",
            "[INFO] Epochs: 93/200  Train Loss: 2.9906. Train Acc: 30.490  Time: 79.322\n",
            "[INFO] Epochs: 93/200  Test Loss: 2.9730  Test Acc: 26.357 Time: 13.452\n",
            "[INFO] Epochs: 94/200  Train Loss: 2.9697. Train Acc: 31.302  Time: 80.610\n",
            "[INFO] Epochs: 94/200  Test Loss: 3.3211  Test Acc: 18.298 Time: 13.613\n",
            "[INFO] Epochs: 95/200  Train Loss: 2.9574. Train Acc: 31.812  Time: 80.976\n",
            "[INFO] Epochs: 95/200  Test Loss: 3.1180  Test Acc: 21.217 Time: 13.762\n",
            "[INFO] Epochs: 96/200  Train Loss: 2.9550. Train Acc: 31.271  Time: 80.508\n",
            "[INFO] Epochs: 96/200  Test Loss: 3.1976  Test Acc: 20.518 Time: 13.921\n",
            "[INFO] Epochs: 97/200  Train Loss: 2.9662. Train Acc: 31.719  Time: 80.088\n",
            "[INFO] Epochs: 97/200  Test Loss: 2.8628  Test Acc: 27.015 Time: 13.548\n",
            "[INFO] Epochs: 98/200  Train Loss: 2.9140. Train Acc: 32.438  Time: 82.334\n",
            "[INFO] Epochs: 98/200  Test Loss: 3.0208  Test Acc: 24.095 Time: 13.615\n",
            "[INFO] Epochs: 99/200  Train Loss: 2.9248. Train Acc: 32.167  Time: 81.180\n",
            "[INFO] Epochs: 99/200  Test Loss: 2.9782  Test Acc: 25.905 Time: 13.908\n",
            "[INFO] Epochs: 100/200  Train Loss: 2.9045. Train Acc: 33.219  Time: 81.001\n",
            "[INFO] Epochs: 100/200  Test Loss: 3.3098  Test Acc: 18.051 Time: 13.606\n",
            "[INFO] Epochs: 101/200  Train Loss: 2.8763. Train Acc: 33.042  Time: 81.593\n",
            "[INFO] Epochs: 101/200  Test Loss: 2.9432  Test Acc: 26.439 Time: 13.730\n",
            "[INFO] Epochs: 102/200  Train Loss: 2.9036. Train Acc: 33.240  Time: 80.289\n",
            "[INFO] Epochs: 102/200  Test Loss: 3.0221  Test Acc: 25.329 Time: 13.280\n",
            "[INFO] Epochs: 103/200  Train Loss: 2.8828. Train Acc: 33.052  Time: 78.724\n",
            "[INFO] Epochs: 103/200  Test Loss: 3.2367  Test Acc: 19.531 Time: 12.994\n",
            "[INFO] Epochs: 104/200  Train Loss: 2.8839. Train Acc: 33.438  Time: 78.224\n",
            "[INFO] Epochs: 104/200  Test Loss: 3.4517  Test Acc: 17.969 Time: 13.111\n",
            "[INFO] Epochs: 105/200  Train Loss: 2.8873. Train Acc: 34.042  Time: 77.479\n",
            "[INFO] Epochs: 105/200  Test Loss: 2.9049  Test Acc: 25.658 Time: 13.034\n",
            "[INFO] Epochs: 106/200  Train Loss: 2.8592. Train Acc: 33.781  Time: 77.572\n",
            "[INFO] Epochs: 106/200  Test Loss: 2.8577  Test Acc: 27.056 Time: 13.363\n",
            "[INFO] Epochs: 107/200  Train Loss: 2.8554. Train Acc: 34.281  Time: 77.901\n",
            "[INFO] Epochs: 107/200  Test Loss: 2.9402  Test Acc: 26.933 Time: 13.084\n",
            "[INFO] Epochs: 108/200  Train Loss: 2.8178. Train Acc: 35.021  Time: 76.686\n",
            "[INFO] Epochs: 108/200  Test Loss: 2.8851  Test Acc: 26.686 Time: 13.097\n",
            "[INFO] Epochs: 109/200  Train Loss: 2.8256. Train Acc: 34.938  Time: 77.471\n",
            "[INFO] Epochs: 109/200  Test Loss: 3.0688  Test Acc: 23.808 Time: 13.224\n",
            "[INFO] Epochs: 110/200  Train Loss: 2.8056. Train Acc: 35.271  Time: 78.098\n",
            "[INFO] Epochs: 110/200  Test Loss: 2.9963  Test Acc: 24.301 Time: 13.002\n",
            "[INFO] Epochs: 111/200  Train Loss: 2.8234. Train Acc: 35.010  Time: 77.960\n",
            "[INFO] Epochs: 111/200  Test Loss: 2.9508  Test Acc: 25.164 Time: 13.043\n",
            "[INFO] Epochs: 112/200  Train Loss: 2.8041. Train Acc: 35.375  Time: 76.601\n",
            "[INFO] Epochs: 112/200  Test Loss: 3.0227  Test Acc: 24.137 Time: 13.183\n",
            "[INFO] Epochs: 113/200  Train Loss: 2.7836. Train Acc: 35.958  Time: 77.767\n",
            "[INFO] Epochs: 113/200  Test Loss: 3.1314  Test Acc: 23.355 Time: 13.650\n",
            "[INFO] Epochs: 114/200  Train Loss: 2.7772. Train Acc: 35.531  Time: 79.451\n",
            "[INFO] Epochs: 114/200  Test Loss: 3.0630  Test Acc: 23.643 Time: 13.157\n",
            "[INFO] Epochs: 115/200  Train Loss: 2.7664. Train Acc: 36.188  Time: 78.363\n",
            "[INFO] Epochs: 115/200  Test Loss: 3.0356  Test Acc: 22.985 Time: 13.211\n",
            "[INFO] Epochs: 116/200  Train Loss: 2.7862. Train Acc: 36.167  Time: 77.590\n",
            "[INFO] Epochs: 116/200  Test Loss: 2.9271  Test Acc: 27.632 Time: 13.201\n",
            "[INFO] Epochs: 117/200  Train Loss: 2.7622. Train Acc: 36.010  Time: 78.786\n",
            "[INFO] Epochs: 117/200  Test Loss: 2.8259  Test Acc: 26.933 Time: 12.931\n",
            "[INFO] Epochs: 118/200  Train Loss: 2.7514. Train Acc: 36.427  Time: 75.866\n",
            "[INFO] Epochs: 118/200  Test Loss: 2.9832  Test Acc: 24.507 Time: 12.877\n",
            "[INFO] Epochs: 119/200  Train Loss: 2.7561. Train Acc: 36.635  Time: 76.392\n",
            "[INFO] Epochs: 119/200  Test Loss: 3.0385  Test Acc: 22.985 Time: 12.781\n",
            "[INFO] Epochs: 120/200  Train Loss: 2.7183. Train Acc: 37.792  Time: 77.111\n",
            "[INFO] Epochs: 120/200  Test Loss: 2.8987  Test Acc: 26.768 Time: 12.956\n",
            "[INFO] Epochs: 121/200  Train Loss: 2.7421. Train Acc: 36.750  Time: 76.333\n",
            "[INFO] Epochs: 121/200  Test Loss: 2.9458  Test Acc: 27.303 Time: 12.902\n",
            "[INFO] Epochs: 122/200  Train Loss: 2.7220. Train Acc: 37.104  Time: 77.970\n",
            "[INFO] Epochs: 122/200  Test Loss: 2.8036  Test Acc: 30.304 Time: 13.010\n",
            "[INFO] Epochs: 123/200  Train Loss: 2.7261. Train Acc: 36.969  Time: 77.400\n",
            "[INFO] Epochs: 123/200  Test Loss: 2.9489  Test Acc: 25.740 Time: 13.022\n",
            "[INFO] Epochs: 124/200  Train Loss: 2.7013. Train Acc: 37.417  Time: 76.504\n",
            "[INFO] Epochs: 124/200  Test Loss: 2.7781  Test Acc: 29.071 Time: 13.070\n",
            "[INFO] Epochs: 125/200  Train Loss: 2.6991. Train Acc: 37.375  Time: 76.449\n",
            "[INFO] Epochs: 125/200  Test Loss: 2.8798  Test Acc: 26.727 Time: 12.858\n",
            "[INFO] Epochs: 126/200  Train Loss: 2.7018. Train Acc: 37.208  Time: 77.213\n",
            "[INFO] Epochs: 126/200  Test Loss: 2.8216  Test Acc: 27.919 Time: 12.754\n",
            "[INFO] Epochs: 127/200  Train Loss: 2.6873. Train Acc: 37.938  Time: 76.401\n",
            "[INFO] Epochs: 127/200  Test Loss: 2.7347  Test Acc: 29.893 Time: 12.845\n",
            "[INFO] Epochs: 128/200  Train Loss: 2.6809. Train Acc: 37.906  Time: 76.837\n",
            "[INFO] Epochs: 128/200  Test Loss: 2.8361  Test Acc: 27.714 Time: 12.959\n",
            "[INFO] Epochs: 129/200  Train Loss: 2.6553. Train Acc: 39.125  Time: 76.342\n",
            "[INFO] Epochs: 129/200  Test Loss: 2.7423  Test Acc: 30.839 Time: 12.803\n",
            "[INFO] Epochs: 130/200  Train Loss: 2.6618. Train Acc: 38.708  Time: 76.866\n",
            "[INFO] Epochs: 130/200  Test Loss: 2.8637  Test Acc: 27.138 Time: 13.082\n",
            "[INFO] Epochs: 131/200  Train Loss: 2.6540. Train Acc: 38.990  Time: 77.532\n",
            "[INFO] Epochs: 131/200  Test Loss: 2.8112  Test Acc: 27.549 Time: 13.109\n",
            "[INFO] Epochs: 132/200  Train Loss: 2.6615. Train Acc: 38.948  Time: 76.764\n",
            "[INFO] Epochs: 132/200  Test Loss: 2.8168  Test Acc: 27.673 Time: 13.318\n",
            "[INFO] Epochs: 133/200  Train Loss: 2.6471. Train Acc: 38.750  Time: 79.531\n",
            "[INFO] Epochs: 133/200  Test Loss: 2.8479  Test Acc: 28.906 Time: 13.219\n",
            "[INFO] Epochs: 134/200  Train Loss: 2.6346. Train Acc: 39.521  Time: 76.952\n",
            "[INFO] Epochs: 134/200  Test Loss: 3.0126  Test Acc: 24.260 Time: 12.981\n",
            "[INFO] Epochs: 135/200  Train Loss: 2.6625. Train Acc: 38.906  Time: 76.203\n",
            "[INFO] Epochs: 135/200  Test Loss: 2.8988  Test Acc: 26.480 Time: 12.867\n",
            "[INFO] Epochs: 136/200  Train Loss: 2.6359. Train Acc: 39.938  Time: 76.654\n",
            "[INFO] Epochs: 136/200  Test Loss: 2.6875  Test Acc: 31.990 Time: 13.092\n",
            "[INFO] Epochs: 137/200  Train Loss: 2.6184. Train Acc: 39.979  Time: 77.169\n",
            "[INFO] Epochs: 137/200  Test Loss: 2.6853  Test Acc: 32.525 Time: 13.237\n",
            "[INFO] Epochs: 138/200  Train Loss: 2.6381. Train Acc: 39.667  Time: 76.708\n",
            "[INFO] Epochs: 138/200  Test Loss: 2.6333  Test Acc: 33.964 Time: 12.899\n",
            "[INFO] Epochs: 139/200  Train Loss: 2.6385. Train Acc: 39.583  Time: 76.571\n",
            "[INFO] Epochs: 139/200  Test Loss: 2.7540  Test Acc: 30.798 Time: 12.881\n",
            "[INFO] Epochs: 140/200  Train Loss: 2.5797. Train Acc: 40.208  Time: 79.010\n",
            "[INFO] Epochs: 140/200  Test Loss: 2.7457  Test Acc: 30.962 Time: 13.214\n",
            "[INFO] Epochs: 141/200  Train Loss: 2.6454. Train Acc: 38.771  Time: 77.478\n",
            "[INFO] Epochs: 141/200  Test Loss: 2.6473  Test Acc: 32.895 Time: 13.067\n",
            "[INFO] Epochs: 142/200  Train Loss: 2.5922. Train Acc: 40.500  Time: 77.529\n",
            "[INFO] Epochs: 142/200  Test Loss: 2.7842  Test Acc: 30.016 Time: 13.003\n",
            "[INFO] Epochs: 143/200  Train Loss: 2.5990. Train Acc: 40.969  Time: 76.876\n",
            "[INFO] Epochs: 143/200  Test Loss: 2.8218  Test Acc: 29.646 Time: 12.940\n",
            "[INFO] Epochs: 144/200  Train Loss: 2.5900. Train Acc: 40.385  Time: 75.764\n",
            "[INFO] Epochs: 144/200  Test Loss: 2.6805  Test Acc: 31.743 Time: 13.031\n",
            "[INFO] Epochs: 145/200  Train Loss: 2.5866. Train Acc: 40.990  Time: 77.303\n",
            "[INFO] Epochs: 145/200  Test Loss: 2.7815  Test Acc: 29.564 Time: 13.025\n",
            "[INFO] Epochs: 146/200  Train Loss: 2.5798. Train Acc: 41.000  Time: 77.735\n",
            "[INFO] Epochs: 146/200  Test Loss: 2.8884  Test Acc: 26.933 Time: 12.929\n",
            "[INFO] Epochs: 147/200  Train Loss: 2.5504. Train Acc: 41.260  Time: 76.962\n",
            "[INFO] Epochs: 147/200  Test Loss: 2.6435  Test Acc: 32.278 Time: 12.923\n",
            "[INFO] Epochs: 148/200  Train Loss: 2.5578. Train Acc: 41.542  Time: 77.385\n",
            "[INFO] Epochs: 148/200  Test Loss: 2.7570  Test Acc: 31.579 Time: 13.101\n",
            "[INFO] Epochs: 149/200  Train Loss: 2.5915. Train Acc: 41.406  Time: 77.752\n",
            "[INFO] Epochs: 149/200  Test Loss: 2.6609  Test Acc: 31.168 Time: 13.000\n",
            "[INFO] Epochs: 150/200  Train Loss: 2.5646. Train Acc: 41.906  Time: 76.995\n",
            "[INFO] Epochs: 150/200  Test Loss: 2.7479  Test Acc: 30.921 Time: 13.050\n",
            "[INFO] Epochs: 151/200  Train Loss: 2.5666. Train Acc: 41.542  Time: 77.798\n",
            "[INFO] Epochs: 151/200  Test Loss: 2.9439  Test Acc: 24.712 Time: 12.913\n",
            "[INFO] Epochs: 152/200  Train Loss: 2.5868. Train Acc: 40.844  Time: 77.493\n",
            "[INFO] Epochs: 152/200  Test Loss: 2.8550  Test Acc: 27.837 Time: 13.173\n"
          ],
          "name": "stdout"
        }
      ]
    },
    {
      "cell_type": "code",
      "metadata": {
        "id": "qzYNhi78GLnG",
        "colab_type": "code",
        "colab": {}
      },
      "source": [
        "plt.plot(np.arange(len(train_losses)), train_losses, label='Train loss')\n",
        "plt.plot(np.arange(len(test_losses)), test_losses, label='Test loss')\n",
        "plt.legend()\n",
        "plt.xlabel('Epochs')"
      ],
      "execution_count": null,
      "outputs": []
    },
    {
      "cell_type": "code",
      "metadata": {
        "id": "Mln7tp0bNUEh",
        "colab_type": "code",
        "colab": {}
      },
      "source": [
        "plt.plot(np.arange(len(train_accs)), train_accs, label='Train accuracy')\n",
        "plt.plot(np.arange(len(test_accs)), test_accs, label='Test accuracy')\n",
        "plt.legend()\n",
        "plt.xlabel('Epochs')\n",
        "plt.ylabel('Accuracy (%)')"
      ],
      "execution_count": null,
      "outputs": []
    },
    {
      "cell_type": "code",
      "metadata": {
        "id": "4jPOaG9-CT1U",
        "colab_type": "code",
        "colab": {}
      },
      "source": [
        "torch.save(resnet.state_dict(), 'checkpoint.pth')\n",
        "!cp checkpoint.pth ./drive/My\\ Drive/Steven/"
      ],
      "execution_count": null,
      "outputs": []
    },
    {
      "cell_type": "code",
      "metadata": {
        "id": "xJBdigS3Hc-4",
        "colab_type": "code",
        "colab": {}
      },
      "source": [
        "img, label = next(iter(TrainImgLoader))"
      ],
      "execution_count": null,
      "outputs": []
    },
    {
      "cell_type": "code",
      "metadata": {
        "id": "AOyDReJXSdvg",
        "colab_type": "code",
        "colab": {}
      },
      "source": [
        "Img = (img[0])\n",
        "std = torch.tensor([0.229, 0.224, 0.225], dtype=torch.float32)\n",
        "mean = torch.tensor([0.485, 0.456, 0.406], dtype=torch.float32)\n",
        "\n",
        "std = np.reshape(std, (3,1,1))\n",
        "mean = np.reshape(mean, (3,1,1))\n",
        "Img = Img.mul(std).add(mean)\n",
        "\n",
        "Img = transforms.ToPILImage()(Img)\n",
        "plt.imshow(Img)"
      ],
      "execution_count": null,
      "outputs": []
    }
  ]
}